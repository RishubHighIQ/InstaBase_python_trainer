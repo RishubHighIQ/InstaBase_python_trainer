{
  "nbformat": 4,
  "nbformat_minor": 0,
  "metadata": {
    "colab": {
      "provenance": [],
      "authorship_tag": "ABX9TyM8zYbMIoNByZfyGPavHFKD",
      "include_colab_link": true
    },
    "kernelspec": {
      "name": "python3",
      "display_name": "Python 3"
    },
    "language_info": {
      "name": "python"
    }
  },
  "cells": [
    {
      "cell_type": "markdown",
      "metadata": {
        "id": "view-in-github",
        "colab_type": "text"
      },
      "source": [
        "<a href=\"https://colab.research.google.com/github/RishubHighIQ/InstaBase_python_trainer/blob/main/Python_Trainer_Notebook.ipynb\" target=\"_parent\"><img src=\"https://colab.research.google.com/assets/colab-badge.svg\" alt=\"Open In Colab\"/></a>"
      ]
    },
    {
      "cell_type": "markdown",
      "source": [
        "# [**Click on this Course**](https://www.youtube.com/watch?v=eWRfhZUzrAc&t=2s)"
      ],
      "metadata": {
        "id": "Uwve7HQNa_8p"
      }
    },
    {
      "cell_type": "code",
      "source": [
        "def submit_variables"
      ],
      "metadata": {
        "id": "AZ2k0mn_beZL"
      },
      "execution_count": null,
      "outputs": []
    },
    {
      "cell_type": "markdown",
      "source": [
        "## Variable And Functions"
      ],
      "metadata": {
        "id": "cpgKGi14bJCQ"
      }
    },
    {
      "cell_type": "code",
      "execution_count": null,
      "metadata": {
        "id": "HPoiJb3ea9IP"
      },
      "outputs": [],
      "source": []
    },
    {
      "cell_type": "markdown",
      "source": [
        "## Calling Funtions"
      ],
      "metadata": {
        "id": "nPYEMWVUbPyG"
      }
    },
    {
      "cell_type": "code",
      "source": [],
      "metadata": {
        "id": "QQg2W7qgbTld"
      },
      "execution_count": null,
      "outputs": []
    }
  ]
}